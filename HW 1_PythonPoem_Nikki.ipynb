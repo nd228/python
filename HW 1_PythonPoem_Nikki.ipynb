{
 "cells": [
  {
   "cell_type": "code",
   "execution_count": null,
   "metadata": {},
   "outputs": [],
   "source": [
    "# 1) What is the output of the following code and why? \n",
    "\n",
    "# var1 = 1\n",
    "# var2 = 2\n",
    "# var3 = \"3\"\n",
    "\n",
    "# print(var1 + var2 + var3)\n",
    "\n",
    "# a) 6 \n",
    "# b) 33 \n",
    "# c) 3 + 3 \n",
    "# d) Error "
   ]
  },
  {
   "attachments": {},
   "cell_type": "markdown",
   "metadata": {},
   "source": [
    "Answer: D (can't add strings and numbers together ie apples vs oranges)"
   ]
  },
  {
   "cell_type": "code",
   "execution_count": null,
   "metadata": {},
   "outputs": [],
   "source": [
    "# 2) What is the output of the following code? \n",
    "\n",
    "# str = \"pynative\"\n",
    "\n",
    "# print (str[1:3])\n",
    "\n",
    "# a) py\n",
    "# b) yn\n",
    "# c) pyn\n",
    "# d) yna"
   ]
  },
  {
   "attachments": {},
   "cell_type": "markdown",
   "metadata": {},
   "source": [
    "Answer: B (because p is 0, and y is 1, and the string is starting with 1 and only going up to the third space?)"
   ]
  },
  {
   "cell_type": "code",
   "execution_count": null,
   "metadata": {},
   "outputs": [],
   "source": [
    "# 3) What is the output of the following code? \n",
    "\n",
    "# var= \"James Bond\"\n",
    "# print(var[2::-1])\n",
    "\n",
    "# a) Jam\n",
    "# b) dno\n",
    "# c) maJ\n",
    "# d) dnoB semaJ"
   ]
  },
  {
   "attachments": {},
   "cell_type": "markdown",
   "metadata": {},
   "source": [
    "Answer: C"
   ]
  },
  {
   "cell_type": "code",
   "execution_count": null,
   "metadata": {},
   "outputs": [],
   "source": [
    "# 4) What is the output of the following code? \n",
    "\n",
    "# var = \"James\" * 2  * 3\n",
    "# print(var)\n",
    "\n",
    "# a) JamesJamesJamesJamesJamesJames\n",
    "# b) JamesJamesJamesJamesJames\n",
    "# c) Error: invalid syntax"
   ]
  },
  {
   "attachments": {},
   "cell_type": "markdown",
   "metadata": {},
   "source": [
    "Answer: A (can't forget the first \"James\" in the exponential sequence)"
   ]
  },
  {
   "cell_type": "code",
   "execution_count": null,
   "metadata": {},
   "outputs": [],
   "source": [
    "# 5) Get rid of the non fruit item: \n",
    "\n",
    "# sweets = ['apple', 'bananas', 'cantelopes', 'donut']\n"
   ]
  },
  {
   "cell_type": "code",
   "execution_count": 1,
   "metadata": {},
   "outputs": [
    {
     "ename": "SyntaxError",
     "evalue": "invalid character '‘' (U+2018) (2937776310.py, line 1)",
     "output_type": "error",
     "traceback": [
      "\u001b[0;36m  Input \u001b[0;32mIn [1]\u001b[0;36m\u001b[0m\n\u001b[0;31m    sweets.remove(‘donut’)\u001b[0m\n\u001b[0m                  ^\u001b[0m\n\u001b[0;31mSyntaxError\u001b[0m\u001b[0;31m:\u001b[0m invalid character '‘' (U+2018)\n"
     ]
    }
   ],
   "source": [
    "sweets.remove(‘donut’)"
   ]
  },
  {
   "attachments": {},
   "cell_type": "markdown",
   "metadata": {},
   "source": [
    "sweets.remove(‘donut’)\n",
    "OR\n",
    "my_list.remove(‘donut’)"
   ]
  },
  {
   "attachments": {},
   "cell_type": "markdown",
   "metadata": {},
   "source": [
    "\n"
   ]
  },
  {
   "cell_type": "code",
   "execution_count": null,
   "metadata": {},
   "outputs": [],
   "source": [
    "# 6) Find \"santa\" in the variable \"house\" \n",
    "\n",
    "\n",
    "# room1=['gabe', 'greg']\n",
    "# room2=['michelle','santa','stacey']\n",
    "# room3=['adam','sam', 'melissa']\n",
    "# house= [room2, room1, room3] \n"
   ]
  },
  {
   "attachments": {},
   "cell_type": "markdown",
   "metadata": {},
   "source": [
    "house[0][1] \n",
    "My_list[0][1]"
   ]
  },
  {
   "cell_type": "code",
   "execution_count": null,
   "metadata": {},
   "outputs": [],
   "source": [
    "# 7) A dictionary is the best way to store a sequence of events like a recipe.\n",
    "\n",
    "# True or false? \n",
    " \n"
   ]
  },
  {
   "attachments": {},
   "cell_type": "markdown",
   "metadata": {},
   "source": [
    "Answer: false"
   ]
  },
  {
   "cell_type": "code",
   "execution_count": null,
   "metadata": {},
   "outputs": [],
   "source": [
    "# 8) Remove all dupes \n",
    "# names = ['mary', 'bob', 'jessica', 'pierre', 'bob', 'jennifer', 'chris', \n",
    "#          'christina', 'tina', 'mary', 'tina', 'bob', 'michelle','jennifer']"
   ]
  },
  {
   "attachments": {},
   "cell_type": "markdown",
   "metadata": {},
   "source": [
    "set(names)"
   ]
  },
  {
   "cell_type": "code",
   "execution_count": null,
   "metadata": {},
   "outputs": [],
   "source": [
    "# 9) What's the difference between = and == ? "
   ]
  },
  {
   "attachments": {},
   "cell_type": "markdown",
   "metadata": {},
   "source": [
    "= signifies attributing a value to a variable; \"is\"\n",
    "== signifies equal to, ie \"true\" if both operands are equal ie comparing values"
   ]
  },
  {
   "cell_type": "code",
   "execution_count": null,
   "metadata": {},
   "outputs": [],
   "source": [
    "# 10) \n",
    "\n",
    "# Use the concepts you learned in class to construct a poem. Please make sure you write your own poem. There are no guidelines to writing this poem but if you want, feel free to following traditional poem formats like ballads, sonnets, haikus or more.  \n",
    "\n",
    "# See below for example. I expect yours to have a bit more elegant. \n",
    "\n",
    "# Credit Poem: \"Still I Rise\" by Maya Angelou \n",
    "\n",
    "# Reference: https://www.popwebdesign.net/popart_blog/en/2018/01/code-poetry-poems-written-in-programming-languages/ \n"
   ]
  },
  {
   "cell_type": "code",
   "execution_count": 53,
   "metadata": {},
   "outputs": [
    {
     "name": "stdout",
     "output_type": "stream",
     "text": [
      "the giants before me\n",
      "by nikki damianou\n",
      "\n",
      "\n",
      "last night\n",
      "she said\n",
      "deja la duda\n",
      "learn to fly\n",
      "wider than a mile\n",
      "confieso\n",
      "i was not offended\n",
      "\n",
      "\n",
      "these are the earthquake drills\n",
      "that we ran\n",
      "just take a breadth\n",
      "\n",
      "\n",
      "i need tempo\n",
      "somehow it finds me\n",
      "\n",
      "\n",
      "its lonely out in space\n",
      "some nights\n",
      "this view\n",
      "is so much better\n",
      "\n",
      "\n",
      "love yourself\n",
      "(\"'cause\", 'weird', 'purple')\n",
      "'cause\n",
      "this could get ugly\n",
      "but how come we ain't\n",
      "gettin' no higher?\n",
      "get some chicken instead\n",
      "las mujeres ya no lloren\n",
      "i deserve congratulations\n",
      "cuz i can buy my own\n",
      "flowers\n"
     ]
    }
   ],
   "source": [
    "a = 'THE GIANTS BEFORE ME'\n",
    "b = 'by nikki damianou'\n",
    "c = 'last night'\n",
    "d = 'these are the earthquake drills'\n",
    "e = 'i need tempo'\n",
    "f = 'its lonely out in space'\n",
    "g = 'love yourself'\n",
    "my_list = ['whoa', '6', 'confieso', 'blue']\n",
    "my_tuple = (\"'cause\", 'weird', 'purple', 'whale')\n",
    "favorites = {'colors': 'orange', 'sandwich': 'pastrami', 'gift': 'flowers', 'place':'this view'}\n",
    " \n",
    "\n",
    "print(a.lower())\n",
    "print(b)\n",
    "print('\\n')\n",
    "print(c)\n",
    "print('she said')\n",
    "print('deja la duda')\n",
    "print('learn to fly')\n",
    "print('wider than a mile')\n",
    "print(my_list[2])\n",
    "print('i was not offended')\n",
    "print('\\n')\n",
    "print(d)\n",
    "print('that we ran')\n",
    "print('just take a breadth')\n",
    "print('\\n')\n",
    "print(e)\n",
    "print('somehow it finds me')\n",
    "print('\\n')\n",
    "print(f)\n",
    "print('some nights')\n",
    "pop_result = favorites.pop('place')\n",
    "print(pop_result)\n",
    "print('is so much better')\n",
    "print('\\n')\n",
    "print(g)\n",
    "print(my_tuple[0::-1])\n",
    "print(\"'cause\")\n",
    "print('this could get ugly')\n",
    "print(\"but how come we ain't\")\n",
    "print(\"gettin' no higher?\")\n",
    "print('get some chicken instead')\n",
    "print('las mujeres ya no lloren')\n",
    "print('i deserve congratulations')\n",
    "print('cuz i can buy my own')\n",
    "print(favorites['gift'])"
   ]
  },
  {
   "cell_type": "code",
   "execution_count": 54,
   "metadata": {},
   "outputs": [
    {
     "name": "stdout",
     "output_type": "stream",
     "text": [
      "Still I Rise\n",
      "\n",
      "\n",
      "BY MAYA ANGELOU\n",
      "\n",
      "\n",
      "With your bitter, twisted lies,\n",
      "You may trod me in the very dirt\n",
      "But still, like dust, I'll rise.\n",
      "\n",
      "\n",
      "Does my sassiness upset you?\n",
      "Why are you beset with gloom?\n",
      "’Cause I walk like I've got oil wells\n",
      "Pumping in my living room.\n",
      "\n",
      "\n",
      "Just like moons and like suns,\n",
      "With the certainty of tides,\n",
      "Just like hopes springing high,\n",
      "Still I'll rise.\n",
      "\n",
      "\n",
      "Did you want to see me broken?\n",
      "Bowed head and lowered eyes?\n",
      "Shoulders falling down like teardrops,\n",
      "Weakened by my soulful cries?\n",
      "\n",
      "\n",
      "Does my haughtiness offend you?\n",
      "Don't you take it awful hard\n",
      "’Cause I laugh like I've got gold mines\n",
      "Diggin’ in my own backyard.\n",
      "\n",
      "\n",
      "You may shoot me with your words,\n",
      "You may cut me with your eyes,\n",
      "You may kill me with your hatefulness,\n",
      "But still, like air, I’ll rise.\n",
      "\n",
      "\n",
      "Does my sexiness upset you?\n",
      "Does it come as a surprise\n",
      "That I dance like I've got diamonds\n",
      "At the meeting of my thighs?\n",
      "\n",
      "\n",
      "Out of the huts of history’s shame\n",
      "I Rise\n",
      "Up from a past that’s rooted in pain\n",
      "I Rise\n",
      "I'm a black ocean, leaping and wide,\n",
      "Welling and swelling I bear in the tide.\n",
      "\n",
      "\n",
      "Leaving behind nights of terror and fear\n",
      "I Rise\n",
      "Into a daybreak that’s wondrously clear\n",
      "I Rise\n",
      "Bringing the gifts that my ancestors gave,\n",
      "I am the dream and the hope of the slave.\n",
      "I Rise\n",
      "I Rise\n",
      "I Rise.\n"
     ]
    }
   ],
   "source": [
    "a = \"I Rise\"\n",
    "b = \"by maya angelou\"\n",
    "\n",
    "print (f'Still {a}')\n",
    "print('\\n')\n",
    "print(b.upper())\n",
    "print('\\n')\n",
    "print('With your bitter, twisted lies,')\n",
    "print('You may trod me in the very dirt')\n",
    "print(\"But still, like dust, I'll rise.\")\n",
    "print('\\n')\n",
    "print('Does my sassiness upset you?')\n",
    "print('Why are you beset with gloom?')\n",
    "print(\"’Cause I walk like I've got oil wells\")\n",
    "print('Pumping in my living room.')\n",
    "print('\\n')\n",
    "print('Just like moons and like suns,')\n",
    "print('With the certainty of tides,')\n",
    "print('Just like hopes springing high,')\n",
    "print(\"Still I'll rise.\")\n",
    "print('\\n')\n",
    "print('Did you want to see me broken?')\n",
    "print('Bowed head and lowered eyes?')\n",
    "print('Shoulders falling down like teardrops,')\n",
    "print('Weakened by my soulful cries?')\n",
    "print('\\n')\n",
    "print('Does my haughtiness offend you?')\n",
    "print(\"Don't you take it awful hard\")\n",
    "print(\"’Cause I laugh like I've got gold mines\")\n",
    "print('Diggin’ in my own backyard.')\n",
    "print('\\n')\n",
    "print('You may shoot me with your words,')\n",
    "print('You may cut me with your eyes,')\n",
    "print('You may kill me with your hatefulness,')\n",
    "print('But still, like air, I’ll rise.')\n",
    "print('\\n')\n",
    "print('Does my sexiness upset you?')\n",
    "print('Does it come as a surprise')\n",
    "print(\"That I dance like I've got diamonds\")\n",
    "print('At the meeting of my thighs?')\n",
    "print('\\n')\n",
    "print('Out of the huts of history’s shame')\n",
    "print (f'{a}')\n",
    "print('Up from a past that’s rooted in pain')\n",
    "print (f'{a}')\n",
    "print(\"I'm a black ocean, leaping and wide,\")\n",
    "print('Welling and swelling I bear in the tide.')\n",
    "print('\\n')\n",
    "print('Leaving behind nights of terror and fear')\n",
    "print (f'{a}')\n",
    "print('Into a daybreak that’s wondrously clear')\n",
    "print (f'{a}')\n",
    "print('Bringing the gifts that my ancestors gave,')\n",
    "print('I am the dream and the hope of the slave.')\n",
    "print (f'{a}')\n",
    "print (f'{a}')\n",
    "print (f'{a}.')\n"
   ]
  },
  {
   "cell_type": "code",
   "execution_count": 62,
   "metadata": {},
   "outputs": [],
   "source": [
    "test_tuple = (\"'cause\", 'weird', 'purple', 'whale')"
   ]
  },
  {
   "cell_type": "code",
   "execution_count": 69,
   "metadata": {},
   "outputs": [
    {
     "name": "stdout",
     "output_type": "stream",
     "text": [
      "(\"'cause\",)\n"
     ]
    }
   ],
   "source": [
    "print(test_tuple[0::-1])"
   ]
  },
  {
   "cell_type": "code",
   "execution_count": null,
   "metadata": {},
   "outputs": [],
   "source": []
  }
 ],
 "metadata": {
  "kernelspec": {
   "display_name": "base",
   "language": "python",
   "name": "python3"
  },
  "language_info": {
   "codemirror_mode": {
    "name": "ipython",
    "version": 3
   },
   "file_extension": ".py",
   "mimetype": "text/x-python",
   "name": "python",
   "nbconvert_exporter": "python",
   "pygments_lexer": "ipython3",
   "version": "3.9.12"
  },
  "vscode": {
   "interpreter": {
    "hash": "d50abf33a4ed04c6412336023f7761ff4db2cb40937de0f131091d3c035734e2"
   }
  }
 },
 "nbformat": 4,
 "nbformat_minor": 2
}
